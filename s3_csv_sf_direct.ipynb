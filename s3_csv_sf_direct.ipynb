{
 "cells": [
  {
   "cell_type": "code",
   "execution_count": 31,
   "metadata": {},
   "outputs": [],
   "source": [
    "import boto3\n",
    "import io\n",
    "import csv\n",
    "from snowflake.snowpark import Session\n",
    "import datetime\n",
    "\n",
    "connection_parameters = {\n",
    "   \"account\": \"dr31778.ca-central-1.aws\",\n",
    "   \"user\": \"PRAVEEN11001\",\n",
    "   \"password\": \"XXXXXXXXXXXXXXXX\",\n",
    "   \"role\": \"ACCOUNTADMIN\",  # optional\n",
    "   \"warehouse\": \"COMPUTE_WH\",  # optional\n",
    "   \"database\": \"DEMO\",  # optional\n",
    "   \"schema\": \"s3\"  # optional\n",
    "}\n",
    "\n",
    "session = Session.builder.configs(connection_parameters).create()"
   ]
  },
  {
   "cell_type": "code",
   "execution_count": 32,
   "metadata": {},
   "outputs": [],
   "source": [
    "aws_access_key = 'XXXXXXXXXXXXXXXX'\n",
    "aws_secret_key = 'XXXXXXXXXXXXXXXXXXXXXXXXXXXXXXXX'\n",
    "aws_s3_bucket_name = 'praveeng-s3'  \n",
    "aws_s3_object = 'xmls/'\n",
    "\n",
    "s3 = boto3.client('s3', aws_access_key_id=aws_access_key, aws_secret_access_key=aws_secret_key)"
   ]
  },
  {
   "cell_type": "code",
   "execution_count": 33,
   "metadata": {},
   "outputs": [],
   "source": [
    "def copy_into_sf(session, folder_name, filename):\n",
    "\n",
    "    copy_date = datetime.datetime.utcnow()\n",
    "    \n",
    "    copy_result = session.sql(f\"\"\"\n",
    "    COPY INTO AWS_STUDENT_DATASET_DIR(filename, ID, NAME, NATIONALITY, CITY, \n",
    "                              LATITUDE, LONGITUDE, GENDER, ethinic_group, \n",
    "                              AGE, ENGLISH_GRADE, MATH_GRADE, SCIENCE_GRADE, \n",
    "                              LANGUAGE_GRADE, PORTFOLIO_RATING, COVERLETTER_RATING, \n",
    "                              REFLETTER_RATING, copy_date)\n",
    "    FROM \n",
    "        (SELECT '{filename}' AS filename, \n",
    "            $1 AS ID, \n",
    "            $2 AS NAME, \n",
    "            $3 AS NATIONALITY, \n",
    "            $4 AS CITY, \n",
    "            $5 AS LATITUDE, \n",
    "            $6 AS LONGITUDE,\n",
    "            $7 AS GENDER, \n",
    "            $8 AS ethinic_group, \n",
    "            $9 AS AGE, \n",
    "            $10 AS ENGLISH_GRADE, \n",
    "            $11 AS MATH_GRADE, \n",
    "            $12 AS SCIENCE_GRADE, \n",
    "            $13 AS LANGUAGE_GRADE, \n",
    "            $14 AS PORTFOLIO_RATING, \n",
    "            $15 AS COVERLETTER_RATING, \n",
    "            $16 AS REFLETTER_RATING,\n",
    "            '{copy_date}' AS copy_date \n",
    "        FROM @s3_stage/{folder_name}{filename}.csv)\n",
    "        \n",
    "    ON_ERROR='SKIP_FILE'\n",
    "    FILE_FORMAT= (FORMAT_NAME=CSV_FORMAT);\n",
    "    \"\"\").collect()\n",
    "\n",
    "    print(copy_result)"
   ]
  },
  {
   "cell_type": "code",
   "execution_count": 34,
   "metadata": {},
   "outputs": [
    {
     "name": "stdout",
     "output_type": "stream",
     "text": [
      "student-dataset\n",
      "[Row(file='s3://praveeng-s3/xmls/student-dataset.csv', status='LOADED', rows_parsed=307, rows_loaded=307, error_limit=1, errors_seen=0, first_error=None, first_error_line=None, first_error_character=None, first_error_column_name=None)]\n"
     ]
    }
   ],
   "source": [
    "# for all formatted csv file \n",
    "response = s3.list_objects_v2(Bucket=aws_s3_bucket_name, Prefix=aws_s3_object)\n",
    "\n",
    "for obj in response['Contents']:\n",
    "    key = obj['Key']\n",
    "    if key.endswith('set.csv'):\n",
    "        filename = key.split('/')[-1].split('.')[0]\n",
    "        print(filename)\n",
    "        copy_into_sf(session, aws_s3_object, filename)"
   ]
  }
 ],
 "metadata": {
  "kernelspec": {
   "display_name": "Python 3",
   "language": "python",
   "name": "python3"
  },
  "language_info": {
   "codemirror_mode": {
    "name": "ipython",
    "version": 3
   },
   "file_extension": ".py",
   "mimetype": "text/x-python",
   "name": "python",
   "nbconvert_exporter": "python",
   "pygments_lexer": "ipython3",
   "version": "3.10.11"
  }
 },
 "nbformat": 4,
 "nbformat_minor": 2
}
